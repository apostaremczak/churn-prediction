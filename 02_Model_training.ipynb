{
 "cells": [
  {
   "cell_type": "markdown",
   "metadata": {},
   "source": [
    "# Model training"
   ]
  },
  {
   "cell_type": "code",
   "execution_count": 1,
   "metadata": {},
   "outputs": [],
   "source": [
    "from sklearn.model_selection import GridSearchCV\n",
    "from sklearn import model_selection\n",
    "from sklearn.preprocessing import StandardScaler\n",
    "\n",
    "from utils import data_loaders\n",
    "from utils.model_evaluation import evaluate_model"
   ]
  },
  {
   "cell_type": "markdown",
   "metadata": {},
   "source": [
    "## Loading data\n",
    "\n",
    "I start with reading data processed in the previous notebook."
   ]
  },
  {
   "cell_type": "code",
   "execution_count": 2,
   "metadata": {},
   "outputs": [],
   "source": [
    "member_transactions = data_loaders.load_member_transactions(\n",
    "    \"data/processed_member_transactions.csv\")"
   ]
  },
  {
   "cell_type": "markdown",
   "metadata": {},
   "source": [
    "Now I read churn information and split the dataset into train-test pairs."
   ]
  },
  {
   "cell_type": "code",
   "execution_count": 3,
   "metadata": {},
   "outputs": [],
   "source": [
    "churn = data_loaders.load_train_churn(\"data/train_v2.csv\")\n",
    "kkbox = churn.merge(member_transactions, on=\"user_id\", how=\"inner\")\n",
    "kkbox.drop_duplicates(inplace=True)\n",
    "kkbox = kkbox.set_index(\"user_id\")"
   ]
  },
  {
   "cell_type": "markdown",
   "metadata": {},
   "source": [
    "## Train-test split\n",
    "\n",
    "First, I separate input data and targets, then I scale the values using standard scaler."
   ]
  },
  {
   "cell_type": "code",
   "execution_count": 4,
   "metadata": {},
   "outputs": [
    {
     "name": "stdout",
     "output_type": "stream",
     "text": [
      "Total dataset size: 1,001,430\n",
      "Train size: 701,001, test size: 300,429\n"
     ]
    }
   ],
   "source": [
    "X = kkbox.drop([\"is_churn\"], axis=1)\n",
    "print(f\"Total dataset size: {len(X):,}\")\n",
    "y = kkbox[\"is_churn\"].to_numpy()\n",
    "\n",
    "X = StandardScaler().fit_transform(X)\n",
    "X_train, X_test, y_train, y_test = model_selection.train_test_split(X, \n",
    "                                                                    y, \n",
    "                                                                    test_size=0.3,\n",
    "                                                                    random_state=50)\n",
    "\n",
    "print(f\"Train size: {len(X_train):,}, test size: {len(X_test):,}\")"
   ]
  },
  {
   "cell_type": "markdown",
   "metadata": {},
   "source": [
    "## Cross-validation settings\n",
    "\n",
    "Throughout the training, I will be using CV with 3 splits."
   ]
  },
  {
   "cell_type": "code",
   "execution_count": 4,
   "metadata": {},
   "outputs": [],
   "source": [
    "kfold = model_selection.KFold(n_splits=3, shuffle=True)"
   ]
  },
  {
   "cell_type": "markdown",
   "metadata": {},
   "source": [
    "# Classification models\n",
    "\n",
    "Since the goal of this project is to predict whether or not a customer will leave the serice (binary decision), I will be using different classifying models."
   ]
  },
  {
   "cell_type": "markdown",
   "metadata": {},
   "source": [
    "## Logistic Regression Classifier"
   ]
  },
  {
   "cell_type": "markdown",
   "metadata": {},
   "source": [
    "First, I'm trying a simple logisitc regression classifier. I'm searching through different $C$ values using grid search."
   ]
  },
  {
   "cell_type": "code",
   "execution_count": 7,
   "metadata": {
    "scrolled": true
   },
   "outputs": [
    {
     "name": "stdout",
     "output_type": "stream",
     "text": [
      "Fitting 3 folds for each of 7 candidates, totalling 21 fits\n",
      "[CV] C=0.001 .........................................................\n"
     ]
    },
    {
     "name": "stderr",
     "output_type": "stream",
     "text": [
      "[Parallel(n_jobs=1)]: Using backend SequentialBackend with 1 concurrent workers.\n"
     ]
    },
    {
     "name": "stdout",
     "output_type": "stream",
     "text": [
      "[CV] ............................. C=0.001, score=0.922, total=   2.3s\n",
      "[CV] C=0.001 .........................................................\n"
     ]
    },
    {
     "name": "stderr",
     "output_type": "stream",
     "text": [
      "[Parallel(n_jobs=1)]: Done   1 out of   1 | elapsed:    2.3s remaining:    0.0s\n"
     ]
    },
    {
     "name": "stdout",
     "output_type": "stream",
     "text": [
      "[CV] ............................. C=0.001, score=0.923, total=   2.6s\n",
      "[CV] C=0.001 .........................................................\n"
     ]
    },
    {
     "name": "stderr",
     "output_type": "stream",
     "text": [
      "[Parallel(n_jobs=1)]: Done   2 out of   2 | elapsed:    5.0s remaining:    0.0s\n"
     ]
    },
    {
     "name": "stdout",
     "output_type": "stream",
     "text": [
      "[CV] ............................. C=0.001, score=0.922, total=   3.1s\n",
      "[CV] C=0.01 ..........................................................\n",
      "[CV] .............................. C=0.01, score=0.922, total=   3.6s\n",
      "[CV] C=0.01 ..........................................................\n",
      "[CV] .............................. C=0.01, score=0.923, total=   3.1s\n",
      "[CV] C=0.01 ..........................................................\n",
      "[CV] .............................. C=0.01, score=0.922, total=   3.0s\n",
      "[CV] C=0.1 ...........................................................\n",
      "[CV] ............................... C=0.1, score=0.922, total=   3.8s\n",
      "[CV] C=0.1 ...........................................................\n",
      "[CV] ............................... C=0.1, score=0.923, total=   2.9s\n",
      "[CV] C=0.1 ...........................................................\n",
      "[CV] ............................... C=0.1, score=0.922, total=   3.0s\n",
      "[CV] C=1.0 ...........................................................\n",
      "[CV] ............................... C=1.0, score=0.922, total=   3.2s\n",
      "[CV] C=1.0 ...........................................................\n",
      "[CV] ............................... C=1.0, score=0.923, total=   5.8s\n",
      "[CV] C=1.0 ...........................................................\n",
      "[CV] ............................... C=1.0, score=0.922, total=   5.3s\n",
      "[CV] C=10.0 ..........................................................\n",
      "[CV] .............................. C=10.0, score=0.922, total=   3.6s\n",
      "[CV] C=10.0 ..........................................................\n",
      "[CV] .............................. C=10.0, score=0.923, total=   5.1s\n",
      "[CV] C=10.0 ..........................................................\n",
      "[CV] .............................. C=10.0, score=0.922, total=   8.9s\n",
      "[CV] C=100.0 .........................................................\n",
      "[CV] ............................. C=100.0, score=0.922, total=   5.9s\n",
      "[CV] C=100.0 .........................................................\n",
      "[CV] ............................. C=100.0, score=0.923, total=   3.6s\n",
      "[CV] C=100.0 .........................................................\n",
      "[CV] ............................. C=100.0, score=0.922, total=   3.4s\n",
      "[CV] C=1000.0 ........................................................\n",
      "[CV] ............................ C=1000.0, score=0.922, total=   4.2s\n",
      "[CV] C=1000.0 ........................................................\n",
      "[CV] ............................ C=1000.0, score=0.923, total=   3.3s\n",
      "[CV] C=1000.0 ........................................................\n",
      "[CV] ............................ C=1000.0, score=0.922, total=   3.5s\n"
     ]
    },
    {
     "name": "stderr",
     "output_type": "stream",
     "text": [
      "[Parallel(n_jobs=1)]: Done  21 out of  21 | elapsed:  1.4min finished\n"
     ]
    },
    {
     "data": {
      "text/plain": [
       "GridSearchCV(cv=KFold(n_splits=3, random_state=None, shuffle=True),\n",
       "             error_score=nan,\n",
       "             estimator=LogisticRegression(C=1.0, class_weight=None, dual=False,\n",
       "                                          fit_intercept=True,\n",
       "                                          intercept_scaling=1, l1_ratio=None,\n",
       "                                          max_iter=1000, multi_class='auto',\n",
       "                                          n_jobs=None, penalty='l2',\n",
       "                                          random_state=None, solver='lbfgs',\n",
       "                                          tol=0.0001, verbose=0,\n",
       "                                          warm_start=False),\n",
       "             iid='deprecated', n_jobs=None,\n",
       "             param_grid={'C': [0.001, 0.01, 0.1, 1.0, 10.0, 100.0, 1000.0]},\n",
       "             pre_dispatch='2*n_jobs', refit=True, return_train_score=False,\n",
       "             scoring=None, verbose=3)"
      ]
     },
     "execution_count": 7,
     "metadata": {},
     "output_type": "execute_result"
    }
   ],
   "source": [
    "from sklearn.linear_model import LogisticRegression\n",
    "\n",
    "logistic_grid = GridSearchCV(\n",
    "    LogisticRegression(max_iter=1000),\n",
    "    param_grid={\n",
    "        \"C\": [1e-3, 1e-2, 1e-1, 1.0, 10.0, 1e2, 1e3]\n",
    "    },\n",
    "    cv=kfold,\n",
    "    refit=True,\n",
    "    verbose=3\n",
    ")\n",
    "\n",
    "logistic_grid.fit(X_train, y_train)"
   ]
  },
  {
   "cell_type": "code",
   "execution_count": 8,
   "metadata": {},
   "outputs": [
    {
     "name": "stdout",
     "output_type": "stream",
     "text": [
      "Best score: 0.9224751462551408\n",
      "Best params: {'C': 0.01}\n",
      "F1 score: 0.454\n",
      "Precision score: 0.751\n",
      "Recall score: 0.325\n"
     ]
    },
    {
     "data": {
      "image/png": "[encoded data removed]",
      "text/plain": [
       "<Figure size 432x288 with 2 Axes>"
      ]
     },
     "metadata": {
      "needs_background": "light"
     },
     "output_type": "display_data"
    },
    {
     "data": {
      "image/png": "[encoded data removed]",
      "text/plain": [
       "<Figure size 432x288 with 1 Axes>"
      ]
     },
     "metadata": {
      "needs_background": "light"
     },
     "output_type": "display_data"
    }
   ],
   "source": [
    "evaluate_model(logistic_grid, X_test, y_test)"
   ]
  },
  {
   "cell_type": "markdown",
   "metadata": {},
   "source": [
    "The best score of this model is similar to that of a random guess, and its F1 and recall scores are really low, which suggest that the imbalanced data really influenced the results."
   ]
  },
  {
   "cell_type": "markdown",
   "metadata": {},
   "source": [
    "## Random Forest Classifier"
   ]
  },
  {
   "cell_type": "code",
   "execution_count": 7,
   "metadata": {
    "scrolled": true
   },
   "outputs": [
    {
     "name": "stdout",
     "output_type": "stream",
     "text": [
      "Fitting 3 folds for each of 5 candidates, totalling 15 fits\n",
      "[CV] max_depth=None ..................................................\n"
     ]
    },
    {
     "name": "stderr",
     "output_type": "stream",
     "text": [
      "[Parallel(n_jobs=1)]: Using backend SequentialBackend with 1 concurrent workers.\n"
     ]
    },
    {
     "name": "stdout",
     "output_type": "stream",
     "text": [
      "[CV] ................................... max_depth=None, total=   5.4s\n",
      "[CV] max_depth=None ..................................................\n"
     ]
    },
    {
     "name": "stderr",
     "output_type": "stream",
     "text": [
      "[Parallel(n_jobs=1)]: Done   1 out of   1 | elapsed:    5.4s remaining:    0.0s\n"
     ]
    },
    {
     "name": "stdout",
     "output_type": "stream",
     "text": [
      "[CV] ................................... max_depth=None, total=   5.7s\n",
      "[CV] max_depth=None ..................................................\n",
      "[CV] ................................... max_depth=None, total=   5.5s\n",
      "[CV] max_depth=10 ....................................................\n",
      "[CV] ..................................... max_depth=10, total=   3.6s\n",
      "[CV] max_depth=10 ....................................................\n",
      "[CV] ..................................... max_depth=10, total=   3.5s\n",
      "[CV] max_depth=10 ....................................................\n",
      "[CV] ..................................... max_depth=10, total=   3.6s\n",
      "[CV] max_depth=100 ...................................................\n",
      "[CV] .................................... max_depth=100, total=   5.7s\n",
      "[CV] max_depth=100 ...................................................\n",
      "[CV] .................................... max_depth=100, total=   5.9s\n",
      "[CV] max_depth=100 ...................................................\n",
      "[CV] .................................... max_depth=100, total=   6.2s\n",
      "[CV] max_depth=1000 ..................................................\n",
      "[CV] ................................... max_depth=1000, total=   5.8s\n",
      "[CV] max_depth=1000 ..................................................\n",
      "[CV] ................................... max_depth=1000, total=   6.0s\n",
      "[CV] max_depth=1000 ..................................................\n",
      "[CV] ................................... max_depth=1000, total=   5.3s\n",
      "[CV] max_depth=10000 .................................................\n",
      "[CV] .................................. max_depth=10000, total=   5.4s\n",
      "[CV] max_depth=10000 .................................................\n",
      "[CV] .................................. max_depth=10000, total=   5.0s\n",
      "[CV] max_depth=10000 .................................................\n",
      "[CV] .................................. max_depth=10000, total=   6.5s\n"
     ]
    },
    {
     "name": "stderr",
     "output_type": "stream",
     "text": [
      "[Parallel(n_jobs=1)]: Done  15 out of  15 | elapsed:  1.3min finished\n"
     ]
    },
    {
     "data": {
      "text/plain": [
       "GridSearchCV(cv=KFold(n_splits=3, random_state=None, shuffle=True),\n",
       "             error_score=nan,\n",
       "             estimator=DecisionTreeClassifier(ccp_alpha=0.0, class_weight=None,\n",
       "                                              criterion='gini', max_depth=None,\n",
       "                                              max_features=None,\n",
       "                                              max_leaf_nodes=None,\n",
       "                                              min_impurity_decrease=0.0,\n",
       "                                              min_impurity_split=None,\n",
       "                                              min_samples_leaf=1,\n",
       "                                              min_samples_split=2,\n",
       "                                              min_weight_fraction_leaf=0.0,\n",
       "                                              presort='deprecated',\n",
       "                                              random_state=None,\n",
       "                                              splitter='best'),\n",
       "             iid='deprecated', n_jobs=None,\n",
       "             param_grid={'max_depth': [None, 10, 100, 1000, 10000]},\n",
       "             pre_dispatch='2*n_jobs', refit=True, return_train_score=False,\n",
       "             scoring=None, verbose=2)"
      ]
     },
     "execution_count": 7,
     "metadata": {},
     "output_type": "execute_result"
    }
   ],
   "source": [
    "from sklearn.tree import DecisionTreeClassifier\n",
    "\n",
    "dc_grid = GridSearchCV(\n",
    "    DecisionTreeClassifier(),\n",
    "    param_grid={\n",
    "        \"max_depth\": [None, 10, 100, 1000, 10000]\n",
    "    },\n",
    "    cv=kfold,\n",
    "    refit=True,\n",
    "    verbose=2\n",
    ")\n",
    "\n",
    "dc_grid.fit(X_train, y_train)"
   ]
  },
  {
   "cell_type": "code",
   "execution_count": 8,
   "metadata": {},
   "outputs": [
    {
     "name": "stdout",
     "output_type": "stream",
     "text": [
      "Best score: 0.9275008166892772\n",
      "Best params: {'max_depth': 10}\n",
      "F1 score: 0.482\n",
      "Precision score: 0.825\n",
      "Recall score: 0.34\n"
     ]
    },
    {
     "data": {
      "image/png": "[encoded data removed]",
      "text/plain": [
       "<Figure size 432x288 with 2 Axes>"
      ]
     },
     "metadata": {
      "needs_background": "light"
     },
     "output_type": "display_data"
    },
    {
     "data": {
      "image/png": "[encoded data removed]",
      "text/plain": [
       "<Figure size 432x288 with 1 Axes>"
      ]
     },
     "metadata": {
      "needs_background": "light"
     },
     "output_type": "display_data"
    }
   ],
   "source": [
    "evaluate_model(dc_grid, X_test, y_test)"
   ]
  },
  {
   "cell_type": "markdown",
   "metadata": {},
   "source": [
    "Decision tree classifier performed similarly to the previous classifier - it could not handle imbalanced classes."
   ]
  },
  {
   "cell_type": "markdown",
   "metadata": {},
   "source": [
    "# Imbalanced data\n",
    "\n",
    "Since it's been problematic to find a good classifier so far, I decided to try to balance the two classes (churned and not-churned users)."
   ]
  },
  {
   "cell_type": "markdown",
   "metadata": {},
   "source": [
    "## Strategy: Weighted Decision Tree Classifier"
   ]
  },
  {
   "cell_type": "code",
   "execution_count": 17,
   "metadata": {
    "scrolled": true
   },
   "outputs": [
    {
     "name": "stdout",
     "output_type": "stream",
     "text": [
      "Fitting 3 folds for each of 5 candidates, totalling 15 fits\n",
      "[CV] max_depth=None ..................................................\n"
     ]
    },
    {
     "name": "stderr",
     "output_type": "stream",
     "text": [
      "[Parallel(n_jobs=1)]: Using backend SequentialBackend with 1 concurrent workers.\n"
     ]
    },
    {
     "name": "stdout",
     "output_type": "stream",
     "text": [
      "[CV] ...................... max_depth=None, score=0.849, total=   8.5s\n",
      "[CV] max_depth=None ..................................................\n"
     ]
    },
    {
     "name": "stderr",
     "output_type": "stream",
     "text": [
      "[Parallel(n_jobs=1)]: Done   1 out of   1 | elapsed:    8.5s remaining:    0.0s\n"
     ]
    },
    {
     "name": "stdout",
     "output_type": "stream",
     "text": [
      "[CV] ...................... max_depth=None, score=0.851, total=  11.2s\n",
      "[CV] max_depth=None ..................................................\n"
     ]
    },
    {
     "name": "stderr",
     "output_type": "stream",
     "text": [
      "[Parallel(n_jobs=1)]: Done   2 out of   2 | elapsed:   19.7s remaining:    0.0s\n"
     ]
    },
    {
     "name": "stdout",
     "output_type": "stream",
     "text": [
      "[CV] ...................... max_depth=None, score=0.852, total=   6.6s\n",
      "[CV] max_depth=10 ....................................................\n",
      "[CV] ........................ max_depth=10, score=0.799, total=   4.8s\n",
      "[CV] max_depth=10 ....................................................\n",
      "[CV] ........................ max_depth=10, score=0.783, total=   4.1s\n",
      "[CV] max_depth=10 ....................................................\n",
      "[CV] ........................ max_depth=10, score=0.810, total=   4.6s\n",
      "[CV] max_depth=100 ...................................................\n",
      "[CV] ....................... max_depth=100, score=0.849, total=   8.1s\n",
      "[CV] max_depth=100 ...................................................\n",
      "[CV] ....................... max_depth=100, score=0.851, total=   6.2s\n",
      "[CV] max_depth=100 ...................................................\n",
      "[CV] ....................... max_depth=100, score=0.851, total=   9.4s\n",
      "[CV] max_depth=1000 ..................................................\n",
      "[CV] ...................... max_depth=1000, score=0.849, total=   7.2s\n",
      "[CV] max_depth=1000 ..................................................\n",
      "[CV] ...................... max_depth=1000, score=0.851, total=   6.4s\n",
      "[CV] max_depth=1000 ..................................................\n",
      "[CV] ...................... max_depth=1000, score=0.851, total=   7.1s\n",
      "[CV] max_depth=10000 .................................................\n",
      "[CV] ..................... max_depth=10000, score=0.848, total=   6.6s\n",
      "[CV] max_depth=10000 .................................................\n",
      "[CV] ..................... max_depth=10000, score=0.851, total=   6.4s\n",
      "[CV] max_depth=10000 .................................................\n",
      "[CV] ..................... max_depth=10000, score=0.852, total=   5.7s\n"
     ]
    },
    {
     "name": "stderr",
     "output_type": "stream",
     "text": [
      "[Parallel(n_jobs=1)]: Done  15 out of  15 | elapsed:  1.7min finished\n"
     ]
    },
    {
     "data": {
      "text/plain": [
       "GridSearchCV(cv=KFold(n_splits=3, random_state=None, shuffle=True),\n",
       "             error_score=nan,\n",
       "             estimator=DecisionTreeClassifier(ccp_alpha=0.0,\n",
       "                                              class_weight='balanced',\n",
       "                                              criterion='gini', max_depth=None,\n",
       "                                              max_features=None,\n",
       "                                              max_leaf_nodes=None,\n",
       "                                              min_impurity_decrease=0.0,\n",
       "                                              min_impurity_split=None,\n",
       "                                              min_samples_leaf=1,\n",
       "                                              min_samples_split=2,\n",
       "                                              min_weight_fraction_leaf=0.0,\n",
       "                                              presort='deprecated',\n",
       "                                              random_state=None,\n",
       "                                              splitter='best'),\n",
       "             iid='deprecated', n_jobs=None,\n",
       "             param_grid={'max_depth': [None, 10, 100, 1000, 10000]},\n",
       "             pre_dispatch='2*n_jobs', refit=True, return_train_score=False,\n",
       "             scoring=None, verbose=3)"
      ]
     },
     "execution_count": 17,
     "metadata": {},
     "output_type": "execute_result"
    }
   ],
   "source": [
    "from sklearn.tree import DecisionTreeClassifier\n",
    "\n",
    "wdc_grid = GridSearchCV(\n",
    "    DecisionTreeClassifier(class_weight=\"balanced\"),\n",
    "    param_grid={\n",
    "        \"max_depth\": [None, 10, 100, 1000, 10000]\n",
    "    },\n",
    "    cv=kfold,\n",
    "    refit=True,\n",
    "    verbose=3\n",
    ")\n",
    "\n",
    "wdc_grid.fit(X_train, y_train)"
   ]
  },
  {
   "cell_type": "code",
   "execution_count": 18,
   "metadata": {},
   "outputs": [
    {
     "name": "stdout",
     "output_type": "stream",
     "text": [
      "Best score: 0.8504324530207518\n",
      "Best params: {'max_depth': None}\n",
      "F1 score: 0.422\n",
      "Precision score: 0.338\n",
      "Recall score: 0.562\n"
     ]
    },
    {
     "data": {
      "image/png": "[encoded data removed]",
      "text/plain": [
       "<Figure size 432x288 with 2 Axes>"
      ]
     },
     "metadata": {
      "needs_background": "light"
     },
     "output_type": "display_data"
    },
    {
     "data": {
      "image/png": "[encoded data removed]",
      "text/plain": [
       "<Figure size 432x288 with 1 Axes>"
      ]
     },
     "metadata": {
      "needs_background": "light"
     },
     "output_type": "display_data"
    }
   ],
   "source": [
    "evaluate_model(wdc_grid, X_test, y_test)"
   ]
  },
  {
   "cell_type": "markdown",
   "metadata": {},
   "source": [
    "Compared to unweighted decision tree, a balanced tree performs a little bit better on recall, although its F1 and precision scores are lower."
   ]
  },
  {
   "cell_type": "markdown",
   "metadata": {},
   "source": [
    "## Strategy: Weighted Random Forest Classifier"
   ]
  },
  {
   "cell_type": "code",
   "execution_count": 19,
   "metadata": {
    "scrolled": true
   },
   "outputs": [
    {
     "name": "stdout",
     "output_type": "stream",
     "text": [
      "Fitting 3 folds for each of 16 candidates, totalling 48 fits\n",
      "[CV] class_weight=balanced, max_depth=None, n_estimators=10 ..........\n"
     ]
    },
    {
     "name": "stderr",
     "output_type": "stream",
     "text": [
      "[Parallel(n_jobs=1)]: Using backend SequentialBackend with 1 concurrent workers.\n"
     ]
    },
    {
     "name": "stdout",
     "output_type": "stream",
     "text": [
      "[CV]  class_weight=balanced, max_depth=None, n_estimators=10, score=0.873, total=  13.2s\n",
      "[CV] class_weight=balanced, max_depth=None, n_estimators=10 ..........\n"
     ]
    },
    {
     "name": "stderr",
     "output_type": "stream",
     "text": [
      "[Parallel(n_jobs=1)]: Done   1 out of   1 | elapsed:   13.2s remaining:    0.0s\n"
     ]
    },
    {
     "name": "stdout",
     "output_type": "stream",
     "text": [
      "[CV]  class_weight=balanced, max_depth=None, n_estimators=10, score=0.873, total=  12.1s\n",
      "[CV] class_weight=balanced, max_depth=None, n_estimators=10 ..........\n"
     ]
    },
    {
     "name": "stderr",
     "output_type": "stream",
     "text": [
      "[Parallel(n_jobs=1)]: Done   2 out of   2 | elapsed:   25.3s remaining:    0.0s\n"
     ]
    },
    {
     "name": "stdout",
     "output_type": "stream",
     "text": [
      "[CV]  class_weight=balanced, max_depth=None, n_estimators=10, score=0.874, total=  11.2s\n",
      "[CV] class_weight=balanced, max_depth=None, n_estimators=100 .........\n",
      "[CV]  class_weight=balanced, max_depth=None, n_estimators=100, score=0.868, total= 1.8min\n",
      "[CV] class_weight=balanced, max_depth=None, n_estimators=100 .........\n",
      "[CV]  class_weight=balanced, max_depth=None, n_estimators=100, score=0.869, total= 2.3min\n",
      "[CV] class_weight=balanced, max_depth=None, n_estimators=100 .........\n",
      "[CV]  class_weight=balanced, max_depth=None, n_estimators=100, score=0.870, total= 1.5min\n",
      "[CV] class_weight=balanced, max_depth=10, n_estimators=10 ............\n",
      "[CV]  class_weight=balanced, max_depth=10, n_estimators=10, score=0.817, total=   4.7s\n",
      "[CV] class_weight=balanced, max_depth=10, n_estimators=10 ............\n",
      "[CV]  class_weight=balanced, max_depth=10, n_estimators=10, score=0.784, total=   4.9s\n",
      "[CV] class_weight=balanced, max_depth=10, n_estimators=10 ............\n",
      "[CV]  class_weight=balanced, max_depth=10, n_estimators=10, score=0.783, total=   4.6s\n",
      "[CV] class_weight=balanced, max_depth=10, n_estimators=100 ...........\n",
      "[CV]  class_weight=balanced, max_depth=10, n_estimators=100, score=0.779, total=  44.1s\n",
      "[CV] class_weight=balanced, max_depth=10, n_estimators=100 ...........\n",
      "[CV]  class_weight=balanced, max_depth=10, n_estimators=100, score=0.774, total=  43.5s\n",
      "[CV] class_weight=balanced, max_depth=10, n_estimators=100 ...........\n",
      "[CV]  class_weight=balanced, max_depth=10, n_estimators=100, score=0.782, total=  54.7s\n",
      "[CV] class_weight=balanced, max_depth=100, n_estimators=10 ...........\n",
      "[CV]  class_weight=balanced, max_depth=100, n_estimators=10, score=0.872, total=   8.9s\n",
      "[CV] class_weight=balanced, max_depth=100, n_estimators=10 ...........\n",
      "[CV]  class_weight=balanced, max_depth=100, n_estimators=10, score=0.874, total=  11.8s\n",
      "[CV] class_weight=balanced, max_depth=100, n_estimators=10 ...........\n",
      "[CV]  class_weight=balanced, max_depth=100, n_estimators=10, score=0.875, total=  17.4s\n",
      "[CV] class_weight=balanced, max_depth=100, n_estimators=100 ..........\n",
      "[CV]  class_weight=balanced, max_depth=100, n_estimators=100, score=0.868, total= 1.7min\n",
      "[CV] class_weight=balanced, max_depth=100, n_estimators=100 ..........\n",
      "[CV]  class_weight=balanced, max_depth=100, n_estimators=100, score=0.869, total= 1.5min\n",
      "[CV] class_weight=balanced, max_depth=100, n_estimators=100 ..........\n",
      "[CV]  class_weight=balanced, max_depth=100, n_estimators=100, score=0.868, total= 1.5min\n",
      "[CV] class_weight=balanced, max_depth=1000, n_estimators=10 ..........\n",
      "[CV]  class_weight=balanced, max_depth=1000, n_estimators=10, score=0.872, total=   9.1s\n",
      "[CV] class_weight=balanced, max_depth=1000, n_estimators=10 ..........\n",
      "[CV]  class_weight=balanced, max_depth=1000, n_estimators=10, score=0.874, total=   9.1s\n",
      "[CV] class_weight=balanced, max_depth=1000, n_estimators=10 ..........\n",
      "[CV]  class_weight=balanced, max_depth=1000, n_estimators=10, score=0.873, total=   9.0s\n",
      "[CV] class_weight=balanced, max_depth=1000, n_estimators=100 .........\n",
      "[CV]  class_weight=balanced, max_depth=1000, n_estimators=100, score=0.868, total= 1.5min\n",
      "[CV] class_weight=balanced, max_depth=1000, n_estimators=100 .........\n",
      "[CV]  class_weight=balanced, max_depth=1000, n_estimators=100, score=0.869, total= 1.5min\n",
      "[CV] class_weight=balanced, max_depth=1000, n_estimators=100 .........\n",
      "[CV]  class_weight=balanced, max_depth=1000, n_estimators=100, score=0.869, total= 1.5min\n",
      "[CV] class_weight=balanced_subsample, max_depth=None, n_estimators=10 \n",
      "[CV]  class_weight=balanced_subsample, max_depth=None, n_estimators=10, score=0.873, total=  10.0s\n",
      "[CV] class_weight=balanced_subsample, max_depth=None, n_estimators=10 \n",
      "[CV]  class_weight=balanced_subsample, max_depth=None, n_estimators=10, score=0.874, total=   9.9s\n",
      "[CV] class_weight=balanced_subsample, max_depth=None, n_estimators=10 \n",
      "[CV]  class_weight=balanced_subsample, max_depth=None, n_estimators=10, score=0.873, total=  11.9s\n",
      "[CV] class_weight=balanced_subsample, max_depth=None, n_estimators=100 \n",
      "[CV]  class_weight=balanced_subsample, max_depth=None, n_estimators=100, score=0.868, total= 1.8min\n",
      "[CV] class_weight=balanced_subsample, max_depth=None, n_estimators=100 \n",
      "[CV]  class_weight=balanced_subsample, max_depth=None, n_estimators=100, score=0.869, total= 1.8min\n",
      "[CV] class_weight=balanced_subsample, max_depth=None, n_estimators=100 \n",
      "[CV]  class_weight=balanced_subsample, max_depth=None, n_estimators=100, score=0.870, total= 1.8min\n",
      "[CV] class_weight=balanced_subsample, max_depth=10, n_estimators=10 ..\n",
      "[CV]  class_weight=balanced_subsample, max_depth=10, n_estimators=10, score=0.781, total=   6.7s\n",
      "[CV] class_weight=balanced_subsample, max_depth=10, n_estimators=10 ..\n",
      "[CV]  class_weight=balanced_subsample, max_depth=10, n_estimators=10, score=0.771, total=   6.1s\n",
      "[CV] class_weight=balanced_subsample, max_depth=10, n_estimators=10 ..\n",
      "[CV]  class_weight=balanced_subsample, max_depth=10, n_estimators=10, score=0.783, total=   6.2s\n",
      "[CV] class_weight=balanced_subsample, max_depth=10, n_estimators=100 .\n",
      "[CV]  class_weight=balanced_subsample, max_depth=10, n_estimators=100, score=0.772, total= 1.1min\n",
      "[CV] class_weight=balanced_subsample, max_depth=10, n_estimators=100 .\n",
      "[CV]  class_weight=balanced_subsample, max_depth=10, n_estimators=100, score=0.781, total= 1.2min\n",
      "[CV] class_weight=balanced_subsample, max_depth=10, n_estimators=100 .\n",
      "[CV]  class_weight=balanced_subsample, max_depth=10, n_estimators=100, score=0.791, total=  53.6s\n",
      "[CV] class_weight=balanced_subsample, max_depth=100, n_estimators=10 .\n",
      "[CV]  class_weight=balanced_subsample, max_depth=100, n_estimators=10, score=0.872, total=   9.6s\n",
      "[CV] class_weight=balanced_subsample, max_depth=100, n_estimators=10 .\n",
      "[CV]  class_weight=balanced_subsample, max_depth=100, n_estimators=10, score=0.873, total=   9.9s\n",
      "[CV] class_weight=balanced_subsample, max_depth=100, n_estimators=10 .\n",
      "[CV]  class_weight=balanced_subsample, max_depth=100, n_estimators=10, score=0.873, total=   9.7s\n",
      "[CV] class_weight=balanced_subsample, max_depth=100, n_estimators=100 \n",
      "[CV]  class_weight=balanced_subsample, max_depth=100, n_estimators=100, score=0.869, total= 1.7min\n",
      "[CV] class_weight=balanced_subsample, max_depth=100, n_estimators=100 \n",
      "[CV]  class_weight=balanced_subsample, max_depth=100, n_estimators=100, score=0.869, total= 1.9min\n",
      "[CV] class_weight=balanced_subsample, max_depth=100, n_estimators=100 \n",
      "[CV]  class_weight=balanced_subsample, max_depth=100, n_estimators=100, score=0.869, total= 2.1min\n",
      "[CV] class_weight=balanced_subsample, max_depth=1000, n_estimators=10 \n",
      "[CV]  class_weight=balanced_subsample, max_depth=1000, n_estimators=10, score=0.873, total=  13.2s\n",
      "[CV] class_weight=balanced_subsample, max_depth=1000, n_estimators=10 \n",
      "[CV]  class_weight=balanced_subsample, max_depth=1000, n_estimators=10, score=0.873, total=  11.5s\n",
      "[CV] class_weight=balanced_subsample, max_depth=1000, n_estimators=10 \n",
      "[CV]  class_weight=balanced_subsample, max_depth=1000, n_estimators=10, score=0.874, total=  10.5s\n",
      "[CV] class_weight=balanced_subsample, max_depth=1000, n_estimators=100 \n",
      "[CV]  class_weight=balanced_subsample, max_depth=1000, n_estimators=100, score=0.869, total= 1.8min\n",
      "[CV] class_weight=balanced_subsample, max_depth=1000, n_estimators=100 \n",
      "[CV]  class_weight=balanced_subsample, max_depth=1000, n_estimators=100, score=0.869, total= 1.8min\n",
      "[CV] class_weight=balanced_subsample, max_depth=1000, n_estimators=100 \n",
      "[CV]  class_weight=balanced_subsample, max_depth=1000, n_estimators=100, score=0.869, total= 1.8min\n"
     ]
    },
    {
     "name": "stderr",
     "output_type": "stream",
     "text": [
      "[Parallel(n_jobs=1)]: Done  48 out of  48 | elapsed: 40.6min finished\n"
     ]
    },
    {
     "data": {
      "text/plain": [
       "GridSearchCV(cv=KFold(n_splits=3, random_state=None, shuffle=True),\n",
       "             error_score=nan,\n",
       "             estimator=RandomForestClassifier(bootstrap=True, ccp_alpha=0.0,\n",
       "                                              class_weight=None,\n",
       "                                              criterion='gini', max_depth=None,\n",
       "                                              max_features='auto',\n",
       "                                              max_leaf_nodes=None,\n",
       "                                              max_samples=None,\n",
       "                                              min_impurity_decrease=0.0,\n",
       "                                              min_impurity_split=None,\n",
       "                                              min_samples_leaf=1,\n",
       "                                              min_samples_split=2,\n",
       "                                              min_weight_fraction_leaf=0.0,\n",
       "                                              n_estimators=100, n_jobs=None,\n",
       "                                              oob_score=False,\n",
       "                                              random_state=None, verbose=0,\n",
       "                                              warm_start=False),\n",
       "             iid='deprecated', n_jobs=None,\n",
       "             param_grid={'class_weight': ['balanced', 'balanced_subsample'],\n",
       "                         'max_depth': [None, 10, 100, 1000],\n",
       "                         'n_estimators': [10, 100]},\n",
       "             pre_dispatch='2*n_jobs', refit=True, return_train_score=False,\n",
       "             scoring=None, verbose=3)"
      ]
     },
     "execution_count": 19,
     "metadata": {},
     "output_type": "execute_result"
    }
   ],
   "source": [
    "from sklearn.ensemble import RandomForestClassifier\n",
    "\n",
    "wrf_grid = GridSearchCV(\n",
    "    RandomForestClassifier(),\n",
    "    param_grid={\n",
    "        \"n_estimators\": [10, 100],\n",
    "        \"max_depth\": [None, 10, 100, 1000],\n",
    "        \"class_weight\": [\"balanced\", \"balanced_subsample\"]\n",
    "    },\n",
    "    cv=kfold,\n",
    "    refit=True,\n",
    "    verbose=3\n",
    ")\n",
    "\n",
    "wrf_grid.fit(X_train, y_train)"
   ]
  },
  {
   "cell_type": "code",
   "execution_count": 21,
   "metadata": {},
   "outputs": [
    {
     "name": "stdout",
     "output_type": "stream",
     "text": [
      "Best score: 0.8737776408307548\n",
      "Best params: {'class_weight': 'balanced', 'max_depth': 100, 'n_estimators': 10}\n",
      "F1 score: 0.447\n",
      "Precision score: 0.387\n",
      "Recall score: 0.529\n"
     ]
    },
    {
     "data": {
      "image/png": "[encoded data removed]",
      "text/plain": [
       "<Figure size 432x288 with 2 Axes>"
      ]
     },
     "metadata": {
      "needs_background": "light"
     },
     "output_type": "display_data"
    },
    {
     "data": {
      "image/png": "[encoded data removed]",
      "text/plain": [
       "<Figure size 432x288 with 1 Axes>"
      ]
     },
     "metadata": {
      "needs_background": "light"
     },
     "output_type": "display_data"
    }
   ],
   "source": [
    "evaluate_model(wrf_grid, X_test, y_test)"
   ]
  },
  {
   "cell_type": "markdown",
   "metadata": {},
   "source": [
    "## Strategy: undersampling\n",
    "\n",
    "Before running a classifiers, I will undersample of the majority class - in this case, I will sample fewer users that did not churn."
   ]
  },
  {
   "cell_type": "code",
   "execution_count": 5,
   "metadata": {},
   "outputs": [
    {
     "name": "stdout",
     "output_type": "stream",
     "text": [
      "Total dataset size: 138,520\n",
      "Train size: 96,964, test size: 41,556\n"
     ]
    }
   ],
   "source": [
    "import pandas as pd\n",
    "\n",
    "\n",
    "churned = kkbox[kkbox[\"is_churn\"] == 1]\n",
    "not_churned = kkbox[kkbox[\"is_churn\"] == 0]\n",
    "max_sample_count = len(churned)\n",
    "sample_count = int(0.7 * max_sample_count)\n",
    "\n",
    "churned_sample = churned.sample(sample_count)\n",
    "not_churned_sample = not_churned.sample(sample_count)\n",
    "kkbox_balanced = pd.concat([churned_sample, not_churned_sample])\n",
    "\n",
    "X_balanced = kkbox_balanced.drop([\"is_churn\"], axis=1)\n",
    "print(f\"Total dataset size: {len(X_balanced):,}\")\n",
    "y_balanced = kkbox_balanced[\"is_churn\"].to_numpy()\n",
    "\n",
    "X_balanced = StandardScaler().fit_transform(X_balanced)\n",
    "X_train_balanced, X_test_balanced, y_train_balanced, y_test_balanced = model_selection.train_test_split(\n",
    "    X_balanced, y_balanced, test_size=0.3, random_state=50)\n",
    "\n",
    "print(f\"Train size: {len(X_train_balanced):,}, test size: {len(X_test_balanced):,}\")"
   ]
  },
  {
   "cell_type": "markdown",
   "metadata": {},
   "source": [
    "However, since the cardinality of the less popular class is so small, the total size of traing dataset shrinked over 7 times."
   ]
  },
  {
   "cell_type": "markdown",
   "metadata": {},
   "source": [
    "## Balanced Logistic Regression"
   ]
  },
  {
   "cell_type": "code",
   "execution_count": 9,
   "metadata": {
    "scrolled": true
   },
   "outputs": [
    {
     "name": "stdout",
     "output_type": "stream",
     "text": [
      "Fitting 3 folds for each of 7 candidates, totalling 21 fits\n",
      "[CV] C=0.001 .........................................................\n"
     ]
    },
    {
     "name": "stderr",
     "output_type": "stream",
     "text": [
      "[Parallel(n_jobs=1)]: Using backend SequentialBackend with 1 concurrent workers.\n"
     ]
    },
    {
     "name": "stdout",
     "output_type": "stream",
     "text": [
      "[CV] ............................. C=0.001, score=0.714, total=   0.3s\n",
      "[CV] C=0.001 .........................................................\n"
     ]
    },
    {
     "name": "stderr",
     "output_type": "stream",
     "text": [
      "[Parallel(n_jobs=1)]: Done   1 out of   1 | elapsed:    0.3s remaining:    0.0s\n"
     ]
    },
    {
     "name": "stdout",
     "output_type": "stream",
     "text": [
      "[CV] ............................. C=0.001, score=0.714, total=   0.2s\n",
      "[CV] C=0.001 .........................................................\n"
     ]
    },
    {
     "name": "stderr",
     "output_type": "stream",
     "text": [
      "[Parallel(n_jobs=1)]: Done   2 out of   2 | elapsed:    0.5s remaining:    0.0s\n"
     ]
    },
    {
     "name": "stdout",
     "output_type": "stream",
     "text": [
      "[CV] ............................. C=0.001, score=0.711, total=   0.4s\n",
      "[CV] C=0.01 ..........................................................\n",
      "[CV] .............................. C=0.01, score=0.715, total=   0.4s\n",
      "[CV] C=0.01 ..........................................................\n",
      "[CV] .............................. C=0.01, score=0.715, total=   0.4s\n",
      "[CV] C=0.01 ..........................................................\n",
      "[CV] .............................. C=0.01, score=0.712, total=   0.3s\n",
      "[CV] C=0.1 ...........................................................\n",
      "[CV] ............................... C=0.1, score=0.717, total=   0.6s\n",
      "[CV] C=0.1 ...........................................................\n",
      "[CV] ............................... C=0.1, score=0.717, total=   0.7s\n",
      "[CV] C=0.1 ...........................................................\n",
      "[CV] ............................... C=0.1, score=0.713, total=   0.5s\n",
      "[CV] C=1.0 ...........................................................\n",
      "[CV] ............................... C=1.0, score=0.718, total=   0.6s\n",
      "[CV] C=1.0 ...........................................................\n",
      "[CV] ............................... C=1.0, score=0.718, total=   0.6s\n",
      "[CV] C=1.0 ...........................................................\n",
      "[CV] ............................... C=1.0, score=0.714, total=   0.5s\n",
      "[CV] C=10.0 ..........................................................\n",
      "[CV] .............................. C=10.0, score=0.719, total=   0.5s\n",
      "[CV] C=10.0 ..........................................................\n",
      "[CV] .............................. C=10.0, score=0.718, total=   0.6s\n",
      "[CV] C=10.0 ..........................................................\n",
      "[CV] .............................. C=10.0, score=0.714, total=   0.6s\n",
      "[CV] C=100.0 .........................................................\n",
      "[CV] ............................. C=100.0, score=0.719, total=   0.5s\n",
      "[CV] C=100.0 .........................................................\n",
      "[CV] ............................. C=100.0, score=0.718, total=   0.5s\n",
      "[CV] C=100.0 .........................................................\n",
      "[CV] ............................. C=100.0, score=0.714, total=   0.5s\n",
      "[CV] C=1000.0 ........................................................\n",
      "[CV] ............................ C=1000.0, score=0.719, total=   0.5s\n",
      "[CV] C=1000.0 ........................................................\n",
      "[CV] ............................ C=1000.0, score=0.718, total=   0.6s\n",
      "[CV] C=1000.0 ........................................................\n",
      "[CV] ............................ C=1000.0, score=0.714, total=   0.5s\n"
     ]
    },
    {
     "name": "stderr",
     "output_type": "stream",
     "text": [
      "[Parallel(n_jobs=1)]: Done  21 out of  21 | elapsed:   10.3s finished\n"
     ]
    },
    {
     "data": {
      "text/plain": [
       "GridSearchCV(cv=KFold(n_splits=3, random_state=None, shuffle=True),\n",
       "             error_score=nan,\n",
       "             estimator=LogisticRegression(C=1.0, class_weight=None, dual=False,\n",
       "                                          fit_intercept=True,\n",
       "                                          intercept_scaling=1, l1_ratio=None,\n",
       "                                          max_iter=1000, multi_class='auto',\n",
       "                                          n_jobs=None, penalty='l2',\n",
       "                                          random_state=None, solver='lbfgs',\n",
       "                                          tol=0.0001, verbose=0,\n",
       "                                          warm_start=False),\n",
       "             iid='deprecated', n_jobs=None,\n",
       "             param_grid={'C': [0.001, 0.01, 0.1, 1.0, 10.0, 100.0, 1000.0]},\n",
       "             pre_dispatch='2*n_jobs', refit=True, return_train_score=False,\n",
       "             scoring=None, verbose=3)"
      ]
     },
     "execution_count": 9,
     "metadata": {},
     "output_type": "execute_result"
    }
   ],
   "source": [
    "from sklearn.linear_model import LogisticRegression\n",
    "\n",
    "bl_grid = GridSearchCV(\n",
    "    LogisticRegression(max_iter=1000),\n",
    "    param_grid={\n",
    "        \"C\": [1e-3, 1e-2, 1e-1, 1.0, 10.0, 1e2, 1e3]\n",
    "    },\n",
    "    cv=kfold,\n",
    "    refit=True,\n",
    "    verbose=3\n",
    ")\n",
    "\n",
    "bl_grid.fit(X_train_balanced, y_train_balanced)"
   ]
  },
  {
   "cell_type": "markdown",
   "metadata": {},
   "source": [
    "### Evaluation on balanced data"
   ]
  },
  {
   "cell_type": "code",
   "execution_count": 10,
   "metadata": {},
   "outputs": [
    {
     "name": "stdout",
     "output_type": "stream",
     "text": [
      "Best score: 0.7170702309072067\n",
      "Best params: {'C': 100.0}\n",
      "F1 score: 0.67\n",
      "Precision score: 0.81\n",
      "Recall score: 0.571\n"
     ]
    },
    {
     "data": {
      "image/png": "[encoded data removed]",
      "text/plain": [
       "<Figure size 432x288 with 2 Axes>"
      ]
     },
     "metadata": {
      "needs_background": "light"
     },
     "output_type": "display_data"
    },
    {
     "data": {
      "image/png": "[encoded data removed]",
      "text/plain": [
       "<Figure size 432x288 with 1 Axes>"
      ]
     },
     "metadata": {
      "needs_background": "light"
     },
     "output_type": "display_data"
    }
   ],
   "source": [
    "evaluate_model(bl_grid, X_test_balanced, y_test_balanced)"
   ]
  },
  {
   "cell_type": "markdown",
   "metadata": {},
   "source": [
    "## Balanced Decision Tree Classifier"
   ]
  },
  {
   "cell_type": "code",
   "execution_count": 11,
   "metadata": {
    "scrolled": true
   },
   "outputs": [
    {
     "name": "stdout",
     "output_type": "stream",
     "text": [
      "Fitting 3 folds for each of 5 candidates, totalling 15 fits\n",
      "[CV] max_depth=None ..................................................\n"
     ]
    },
    {
     "name": "stderr",
     "output_type": "stream",
     "text": [
      "[Parallel(n_jobs=1)]: Using backend SequentialBackend with 1 concurrent workers.\n"
     ]
    },
    {
     "name": "stdout",
     "output_type": "stream",
     "text": [
      "[CV] ................................... max_depth=None, total=   0.5s\n",
      "[CV] max_depth=None ..................................................\n"
     ]
    },
    {
     "name": "stderr",
     "output_type": "stream",
     "text": [
      "[Parallel(n_jobs=1)]: Done   1 out of   1 | elapsed:    0.6s remaining:    0.0s\n"
     ]
    },
    {
     "name": "stdout",
     "output_type": "stream",
     "text": [
      "[CV] ................................... max_depth=None, total=   0.7s\n",
      "[CV] max_depth=None ..................................................\n",
      "[CV] ................................... max_depth=None, total=   0.6s\n",
      "[CV] max_depth=10 ....................................................\n",
      "[CV] ..................................... max_depth=10, total=   0.4s\n",
      "[CV] max_depth=10 ....................................................\n",
      "[CV] ..................................... max_depth=10, total=   0.4s\n",
      "[CV] max_depth=10 ....................................................\n",
      "[CV] ..................................... max_depth=10, total=   0.4s\n",
      "[CV] max_depth=100 ...................................................\n",
      "[CV] .................................... max_depth=100, total=   0.5s\n",
      "[CV] max_depth=100 ...................................................\n",
      "[CV] .................................... max_depth=100, total=   0.7s\n",
      "[CV] max_depth=100 ...................................................\n",
      "[CV] .................................... max_depth=100, total=   0.6s\n",
      "[CV] max_depth=1000 ..................................................\n",
      "[CV] ................................... max_depth=1000, total=   0.5s\n",
      "[CV] max_depth=1000 ..................................................\n",
      "[CV] ................................... max_depth=1000, total=   0.5s\n",
      "[CV] max_depth=1000 ..................................................\n",
      "[CV] ................................... max_depth=1000, total=   0.7s\n",
      "[CV] max_depth=10000 .................................................\n",
      "[CV] .................................. max_depth=10000, total=   0.8s\n",
      "[CV] max_depth=10000 .................................................\n",
      "[CV] .................................. max_depth=10000, total=   0.6s\n",
      "[CV] max_depth=10000 .................................................\n",
      "[CV] .................................. max_depth=10000, total=   0.8s\n"
     ]
    },
    {
     "name": "stderr",
     "output_type": "stream",
     "text": [
      "[Parallel(n_jobs=1)]: Done  15 out of  15 | elapsed:    8.7s finished\n"
     ]
    },
    {
     "data": {
      "text/plain": [
       "GridSearchCV(cv=KFold(n_splits=3, random_state=None, shuffle=True),\n",
       "             error_score=nan,\n",
       "             estimator=DecisionTreeClassifier(ccp_alpha=0.0, class_weight=None,\n",
       "                                              criterion='gini', max_depth=None,\n",
       "                                              max_features=None,\n",
       "                                              max_leaf_nodes=None,\n",
       "                                              min_impurity_decrease=0.0,\n",
       "                                              min_impurity_split=None,\n",
       "                                              min_samples_leaf=1,\n",
       "                                              min_samples_split=2,\n",
       "                                              min_weight_fraction_leaf=0.0,\n",
       "                                              presort='deprecated',\n",
       "                                              random_state=None,\n",
       "                                              splitter='best'),\n",
       "             iid='deprecated', n_jobs=None,\n",
       "             param_grid={'max_depth': [None, 10, 100, 1000, 10000]},\n",
       "             pre_dispatch='2*n_jobs', refit=True, return_train_score=False,\n",
       "             scoring=None, verbose=2)"
      ]
     },
     "execution_count": 11,
     "metadata": {},
     "output_type": "execute_result"
    }
   ],
   "source": [
    "from sklearn.tree import DecisionTreeClassifier\n",
    "\n",
    "bdc_grid = GridSearchCV(\n",
    "    DecisionTreeClassifier(),\n",
    "    param_grid={\n",
    "        \"max_depth\": [None, 10, 100, 1000, 10000]\n",
    "    },\n",
    "    cv=kfold,\n",
    "    refit=True,\n",
    "    verbose=2\n",
    ")\n",
    "\n",
    "bdc_grid.fit(X_train_balanced, y_train_balanced)"
   ]
  },
  {
   "cell_type": "code",
   "execution_count": 12,
   "metadata": {},
   "outputs": [
    {
     "name": "stdout",
     "output_type": "stream",
     "text": [
      "Best score: 0.7660368703636743\n",
      "Best params: {'max_depth': 10}\n",
      "F1 score: 0.762\n",
      "Precision score: 0.785\n",
      "Recall score: 0.74\n"
     ]
    },
    {
     "data": {
      "image/png": "[encoded data removed]",
      "text/plain": [
       "<Figure size 432x288 with 2 Axes>"
      ]
     },
     "metadata": {
      "needs_background": "light"
     },
     "output_type": "display_data"
    },
    {
     "data": {
      "image/png": "[encoded data removed]",
      "text/plain": [
       "<Figure size 432x288 with 1 Axes>"
      ]
     },
     "metadata": {
      "needs_background": "light"
     },
     "output_type": "display_data"
    }
   ],
   "source": [
    "evaluate_model(bdc_grid, X_test_balanced, y_test_balanced)"
   ]
  },
  {
   "cell_type": "markdown",
   "metadata": {},
   "source": [
    "## Balanced Random Forest Classifier"
   ]
  },
  {
   "cell_type": "code",
   "execution_count": 14,
   "metadata": {
    "scrolled": true
   },
   "outputs": [
    {
     "name": "stdout",
     "output_type": "stream",
     "text": [
      "Fitting 3 folds for each of 12 candidates, totalling 36 fits\n",
      "[CV] max_depth=None, n_estimators=10 .................................\n"
     ]
    },
    {
     "name": "stderr",
     "output_type": "stream",
     "text": [
      "[Parallel(n_jobs=1)]: Using backend SequentialBackend with 1 concurrent workers.\n"
     ]
    },
    {
     "name": "stdout",
     "output_type": "stream",
     "text": [
      "[CV] ..... max_depth=None, n_estimators=10, score=0.736, total=   1.7s\n",
      "[CV] max_depth=None, n_estimators=10 .................................\n"
     ]
    },
    {
     "name": "stderr",
     "output_type": "stream",
     "text": [
      "[Parallel(n_jobs=1)]: Done   1 out of   1 | elapsed:    1.7s remaining:    0.0s\n"
     ]
    },
    {
     "name": "stdout",
     "output_type": "stream",
     "text": [
      "[CV] ..... max_depth=None, n_estimators=10, score=0.739, total=   1.6s\n",
      "[CV] max_depth=None, n_estimators=10 .................................\n"
     ]
    },
    {
     "name": "stderr",
     "output_type": "stream",
     "text": [
      "[Parallel(n_jobs=1)]: Done   2 out of   2 | elapsed:    3.3s remaining:    0.0s\n"
     ]
    },
    {
     "name": "stdout",
     "output_type": "stream",
     "text": [
      "[CV] ..... max_depth=None, n_estimators=10, score=0.737, total=   1.7s\n",
      "[CV] max_depth=None, n_estimators=100 ................................\n",
      "[CV] .... max_depth=None, n_estimators=100, score=0.734, total=  16.9s\n",
      "[CV] max_depth=None, n_estimators=100 ................................\n",
      "[CV] .... max_depth=None, n_estimators=100, score=0.737, total=  14.3s\n",
      "[CV] max_depth=None, n_estimators=100 ................................\n",
      "[CV] .... max_depth=None, n_estimators=100, score=0.733, total=  13.8s\n",
      "[CV] max_depth=None, n_estimators=1000 ...............................\n",
      "[CV] ... max_depth=None, n_estimators=1000, score=0.734, total= 2.3min\n",
      "[CV] max_depth=None, n_estimators=1000 ...............................\n",
      "[CV] ... max_depth=None, n_estimators=1000, score=0.737, total= 2.3min\n",
      "[CV] max_depth=None, n_estimators=1000 ...............................\n",
      "[CV] ... max_depth=None, n_estimators=1000, score=0.735, total= 2.3min\n",
      "[CV] max_depth=10, n_estimators=10 ...................................\n",
      "[CV] ....... max_depth=10, n_estimators=10, score=0.755, total=   0.9s\n",
      "[CV] max_depth=10, n_estimators=10 ...................................\n",
      "[CV] ....... max_depth=10, n_estimators=10, score=0.758, total=   0.8s\n",
      "[CV] max_depth=10, n_estimators=10 ...................................\n",
      "[CV] ....... max_depth=10, n_estimators=10, score=0.760, total=   0.9s\n",
      "[CV] max_depth=10, n_estimators=100 ..................................\n",
      "[CV] ...... max_depth=10, n_estimators=100, score=0.754, total=   8.3s\n",
      "[CV] max_depth=10, n_estimators=100 ..................................\n",
      "[CV] ...... max_depth=10, n_estimators=100, score=0.759, total=   7.8s\n",
      "[CV] max_depth=10, n_estimators=100 ..................................\n",
      "[CV] ...... max_depth=10, n_estimators=100, score=0.761, total=   7.9s\n",
      "[CV] max_depth=10, n_estimators=1000 .................................\n",
      "[CV] ..... max_depth=10, n_estimators=1000, score=0.753, total= 1.3min\n",
      "[CV] max_depth=10, n_estimators=1000 .................................\n",
      "[CV] ..... max_depth=10, n_estimators=1000, score=0.759, total= 1.3min\n",
      "[CV] max_depth=10, n_estimators=1000 .................................\n",
      "[CV] ..... max_depth=10, n_estimators=1000, score=0.761, total= 1.3min\n",
      "[CV] max_depth=100, n_estimators=10 ..................................\n",
      "[CV] ...... max_depth=100, n_estimators=10, score=0.735, total=   1.7s\n",
      "[CV] max_depth=100, n_estimators=10 ..................................\n",
      "[CV] ...... max_depth=100, n_estimators=10, score=0.738, total=   1.5s\n",
      "[CV] max_depth=100, n_estimators=10 ..................................\n",
      "[CV] ...... max_depth=100, n_estimators=10, score=0.737, total=   1.4s\n",
      "[CV] max_depth=100, n_estimators=100 .................................\n",
      "[CV] ..... max_depth=100, n_estimators=100, score=0.734, total=  14.1s\n",
      "[CV] max_depth=100, n_estimators=100 .................................\n",
      "[CV] ..... max_depth=100, n_estimators=100, score=0.737, total=  13.4s\n",
      "[CV] max_depth=100, n_estimators=100 .................................\n",
      "[CV] ..... max_depth=100, n_estimators=100, score=0.734, total=  13.7s\n",
      "[CV] max_depth=100, n_estimators=1000 ................................\n",
      "[CV] .... max_depth=100, n_estimators=1000, score=0.734, total= 2.4min\n",
      "[CV] max_depth=100, n_estimators=1000 ................................\n",
      "[CV] .... max_depth=100, n_estimators=1000, score=0.737, total= 2.3min\n",
      "[CV] max_depth=100, n_estimators=1000 ................................\n",
      "[CV] .... max_depth=100, n_estimators=1000, score=0.734, total= 2.5min\n",
      "[CV] max_depth=1000, n_estimators=10 .................................\n",
      "[CV] ..... max_depth=1000, n_estimators=10, score=0.735, total=   1.5s\n",
      "[CV] max_depth=1000, n_estimators=10 .................................\n",
      "[CV] ..... max_depth=1000, n_estimators=10, score=0.739, total=   1.5s\n",
      "[CV] max_depth=1000, n_estimators=10 .................................\n",
      "[CV] ..... max_depth=1000, n_estimators=10, score=0.734, total=   1.4s\n",
      "[CV] max_depth=1000, n_estimators=100 ................................\n",
      "[CV] .... max_depth=1000, n_estimators=100, score=0.733, total=  14.0s\n",
      "[CV] max_depth=1000, n_estimators=100 ................................\n",
      "[CV] .... max_depth=1000, n_estimators=100, score=0.737, total=  14.5s\n",
      "[CV] max_depth=1000, n_estimators=100 ................................\n",
      "[CV] .... max_depth=1000, n_estimators=100, score=0.735, total=  14.3s\n",
      "[CV] max_depth=1000, n_estimators=1000 ...............................\n",
      "[CV] ... max_depth=1000, n_estimators=1000, score=0.734, total= 2.4min\n",
      "[CV] max_depth=1000, n_estimators=1000 ...............................\n",
      "[CV] ... max_depth=1000, n_estimators=1000, score=0.738, total= 2.4min\n",
      "[CV] max_depth=1000, n_estimators=1000 ...............................\n",
      "[CV] ... max_depth=1000, n_estimators=1000, score=0.735, total= 2.4min\n"
     ]
    },
    {
     "name": "stderr",
     "output_type": "stream",
     "text": [
      "[Parallel(n_jobs=1)]: Done  36 out of  36 | elapsed: 28.1min finished\n"
     ]
    },
    {
     "data": {
      "text/plain": [
       "GridSearchCV(cv=KFold(n_splits=3, random_state=None, shuffle=True),\n",
       "             error_score=nan,\n",
       "             estimator=RandomForestClassifier(bootstrap=True, ccp_alpha=0.0,\n",
       "                                              class_weight=None,\n",
       "                                              criterion='gini', max_depth=None,\n",
       "                                              max_features='auto',\n",
       "                                              max_leaf_nodes=None,\n",
       "                                              max_samples=None,\n",
       "                                              min_impurity_decrease=0.0,\n",
       "                                              min_impurity_split=None,\n",
       "                                              min_samples_leaf=1,\n",
       "                                              min_samples_split=2,\n",
       "                                              min_weight_fraction_leaf=0.0,\n",
       "                                              n_estimators=100, n_jobs=None,\n",
       "                                              oob_score=False,\n",
       "                                              random_state=None, verbose=0,\n",
       "                                              warm_start=False),\n",
       "             iid='deprecated', n_jobs=None,\n",
       "             param_grid={'max_depth': [None, 10, 100, 1000],\n",
       "                         'n_estimators': [10, 100, 1000]},\n",
       "             pre_dispatch='2*n_jobs', refit=True, return_train_score=False,\n",
       "             scoring=None, verbose=3)"
      ]
     },
     "execution_count": 14,
     "metadata": {},
     "output_type": "execute_result"
    }
   ],
   "source": [
    "from sklearn.ensemble import RandomForestClassifier\n",
    "\n",
    "brf_grid = GridSearchCV(\n",
    "    RandomForestClassifier(),\n",
    "    param_grid={\n",
    "        \"max_depth\": [None, 10, 100, 1000],\n",
    "        \"n_estimators\": [10, 100, 1000]\n",
    "    },\n",
    "    cv=kfold,\n",
    "    refit=True,\n",
    "    verbose=3\n",
    ")\n",
    "\n",
    "brf_grid.fit(X_train_balanced, y_train_balanced)"
   ]
  },
  {
   "cell_type": "code",
   "execution_count": 15,
   "metadata": {},
   "outputs": [
    {
     "name": "stdout",
     "output_type": "stream",
     "text": [
      "Best score: 0.7579205056922845\n",
      "Best params: {'max_depth': 10, 'n_estimators': 100}\n",
      "F1 score: 0.755\n",
      "Precision score: 0.771\n",
      "Recall score: 0.74\n"
     ]
    },
    {
     "data": {
      "image/png": "[encoded data removed]",
      "text/plain": [
       "<Figure size 432x288 with 2 Axes>"
      ]
     },
     "metadata": {
      "needs_background": "light"
     },
     "output_type": "display_data"
    },
    {
     "data": {
      "image/png": "[encoded data removed]",
      "text/plain": [
       "<Figure size 432x288 with 1 Axes>"
      ]
     },
     "metadata": {
      "needs_background": "light"
     },
     "output_type": "display_data"
    }
   ],
   "source": [
    "evaluate_model(brf_grid, X_test_balanced, y_test_balanced)"
   ]
  },
  {
   "cell_type": "markdown",
   "metadata": {},
   "source": [
    "## Balanced K-Nearnest Neighbors Classifier"
   ]
  },
  {
   "cell_type": "code",
   "execution_count": 18,
   "metadata": {
    "scrolled": true
   },
   "outputs": [
    {
     "name": "stdout",
     "output_type": "stream",
     "text": [
      "Fitting 3 folds for each of 8 candidates, totalling 24 fits\n",
      "[CV] n_neighbors=3, weights=uniform ..................................\n"
     ]
    },
    {
     "name": "stderr",
     "output_type": "stream",
     "text": [
      "[Parallel(n_jobs=1)]: Using backend SequentialBackend with 1 concurrent workers.\n"
     ]
    },
    {
     "name": "stdout",
     "output_type": "stream",
     "text": [
      "[CV] ...... n_neighbors=3, weights=uniform, score=0.732, total= 4.8min\n",
      "[CV] n_neighbors=3, weights=uniform ..................................\n"
     ]
    },
    {
     "name": "stderr",
     "output_type": "stream",
     "text": [
      "[Parallel(n_jobs=1)]: Done   1 out of   1 | elapsed:  4.8min remaining:    0.0s\n"
     ]
    },
    {
     "name": "stdout",
     "output_type": "stream",
     "text": [
      "[CV] ...... n_neighbors=3, weights=uniform, score=0.735, total= 4.5min\n",
      "[CV] n_neighbors=3, weights=uniform ..................................\n"
     ]
    },
    {
     "name": "stderr",
     "output_type": "stream",
     "text": [
      "[Parallel(n_jobs=1)]: Done   2 out of   2 | elapsed:  9.3min remaining:    0.0s\n"
     ]
    },
    {
     "name": "stdout",
     "output_type": "stream",
     "text": [
      "[CV] ...... n_neighbors=3, weights=uniform, score=0.734, total= 4.1min\n",
      "[CV] n_neighbors=3, weights=distance .................................\n",
      "[CV] ..... n_neighbors=3, weights=distance, score=0.725, total= 4.6min\n",
      "[CV] n_neighbors=3, weights=distance .................................\n",
      "[CV] ..... n_neighbors=3, weights=distance, score=0.728, total= 4.4min\n",
      "[CV] n_neighbors=3, weights=distance .................................\n",
      "[CV] ..... n_neighbors=3, weights=distance, score=0.728, total= 4.4min\n",
      "[CV] n_neighbors=5, weights=uniform ..................................\n",
      "[CV] ...... n_neighbors=5, weights=uniform, score=0.743, total= 4.6min\n",
      "[CV] n_neighbors=5, weights=uniform ..................................\n",
      "[CV] ...... n_neighbors=5, weights=uniform, score=0.749, total= 4.5min\n",
      "[CV] n_neighbors=5, weights=uniform ..................................\n",
      "[CV] ...... n_neighbors=5, weights=uniform, score=0.741, total= 4.4min\n",
      "[CV] n_neighbors=5, weights=distance .................................\n",
      "[CV] ..... n_neighbors=5, weights=distance, score=0.731, total= 4.6min\n",
      "[CV] n_neighbors=5, weights=distance .................................\n",
      "[CV] ..... n_neighbors=5, weights=distance, score=0.735, total= 4.4min\n",
      "[CV] n_neighbors=5, weights=distance .................................\n",
      "[CV] ..... n_neighbors=5, weights=distance, score=0.731, total= 4.3min\n",
      "[CV] n_neighbors=10, weights=uniform .................................\n",
      "[CV] ..... n_neighbors=10, weights=uniform, score=0.755, total= 3.5min\n",
      "[CV] n_neighbors=10, weights=uniform .................................\n",
      "[CV] ..... n_neighbors=10, weights=uniform, score=0.756, total= 4.4min\n",
      "[CV] n_neighbors=10, weights=uniform .................................\n",
      "[CV] ..... n_neighbors=10, weights=uniform, score=0.755, total= 4.3min\n",
      "[CV] n_neighbors=10, weights=distance ................................\n",
      "[CV] .... n_neighbors=10, weights=distance, score=0.738, total= 4.5min\n",
      "[CV] n_neighbors=10, weights=distance ................................\n",
      "[CV] .... n_neighbors=10, weights=distance, score=0.739, total= 4.3min\n",
      "[CV] n_neighbors=10, weights=distance ................................\n",
      "[CV] .... n_neighbors=10, weights=distance, score=0.738, total= 4.3min\n",
      "[CV] n_neighbors=20, weights=uniform .................................\n",
      "[CV] ..... n_neighbors=20, weights=uniform, score=0.758, total= 4.5min\n",
      "[CV] n_neighbors=20, weights=uniform .................................\n",
      "[CV] ..... n_neighbors=20, weights=uniform, score=0.758, total= 4.4min\n",
      "[CV] n_neighbors=20, weights=uniform .................................\n",
      "[CV] ..... n_neighbors=20, weights=uniform, score=0.762, total= 4.3min\n",
      "[CV] n_neighbors=20, weights=distance ................................\n",
      "[CV] .... n_neighbors=20, weights=distance, score=0.743, total= 4.5min\n",
      "[CV] n_neighbors=20, weights=distance ................................\n",
      "[CV] .... n_neighbors=20, weights=distance, score=0.744, total= 4.4min\n",
      "[CV] n_neighbors=20, weights=distance ................................\n",
      "[CV] .... n_neighbors=20, weights=distance, score=0.745, total= 4.4min\n"
     ]
    },
    {
     "name": "stderr",
     "output_type": "stream",
     "text": [
      "[Parallel(n_jobs=1)]: Done  24 out of  24 | elapsed: 105.3min finished\n"
     ]
    },
    {
     "data": {
      "text/plain": [
       "GridSearchCV(cv=KFold(n_splits=3, random_state=None, shuffle=True),\n",
       "             error_score=nan,\n",
       "             estimator=KNeighborsClassifier(algorithm='auto', leaf_size=30,\n",
       "                                            metric='minkowski',\n",
       "                                            metric_params=None, n_jobs=None,\n",
       "                                            n_neighbors=5, p=2,\n",
       "                                            weights='uniform'),\n",
       "             iid='deprecated', n_jobs=None,\n",
       "             param_grid={'n_neighbors': [3, 5, 10, 20],\n",
       "                         'weights': ['uniform', 'distance']},\n",
       "             pre_dispatch='2*n_jobs', refit=True, return_train_score=False,\n",
       "             scoring=None, verbose=3)"
      ]
     },
     "execution_count": 18,
     "metadata": {},
     "output_type": "execute_result"
    }
   ],
   "source": [
    "from sklearn.neighbors import KNeighborsClassifier\n",
    "\n",
    "bknn_grid = GridSearchCV(\n",
    "    KNeighborsClassifier(),\n",
    "    param_grid={\n",
    "        \"n_neighbors\": [3, 5, 10, 20],\n",
    "        \"weights\": [\"uniform\", \"distance\"]\n",
    "    },\n",
    "    cv=kfold,\n",
    "    refit=True,\n",
    "    verbose=3\n",
    ")\n",
    "\n",
    "bknn_grid.fit(X_train_balanced, y_train_balanced)"
   ]
  },
  {
   "cell_type": "code",
   "execution_count": 19,
   "metadata": {},
   "outputs": [
    {
     "name": "stdout",
     "output_type": "stream",
     "text": [
      "Best score: 0.7594468154781703\n",
      "Best params: {'n_neighbors': 20, 'weights': 'uniform'}\n",
      "F1 score: 0.753\n",
      "Precision score: 0.802\n",
      "Recall score: 0.711\n"
     ]
    },
    {
     "data": {
      "image/png": "[encoded data removed]",
      "text/plain": [
       "<Figure size 432x288 with 2 Axes>"
      ]
     },
     "metadata": {
      "needs_background": "light"
     },
     "output_type": "display_data"
    },
    {
     "data": {
      "image/png": "[encoded data removed]",
      "text/plain": [
       "<Figure size 432x288 with 1 Axes>"
      ]
     },
     "metadata": {
      "needs_background": "light"
     },
     "output_type": "display_data"
    }
   ],
   "source": [
    "evaluate_model(bknn_grid, X_test_balanced, y_test_balanced)"
   ]
  },
  {
   "cell_type": "code",
   "execution_count": null,
   "metadata": {},
   "outputs": [],
   "source": []
  }
 ],
 "metadata": {
  "kernelspec": {
   "display_name": "Python 3",
   "language": "python",
   "name": "python3"
  },
  "language_info": {
   "codemirror_mode": {
    "name": "ipython",
    "version": 3
   },
   "file_extension": ".py",
   "mimetype": "text/x-python",
   "name": "python",
   "nbconvert_exporter": "python",
   "pygments_lexer": "ipython3",
   "version": "3.8.0"
  }
 },
 "nbformat": 4,
 "nbformat_minor": 2
}
